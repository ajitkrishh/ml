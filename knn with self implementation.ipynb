{
 "cells": [
  {
   "cell_type": "code",
   "execution_count": 22,
   "id": "f6b32542",
   "metadata": {},
   "outputs": [],
   "source": [
    "from sklearn import datasets\n",
    "from sklearn.neighbors import KNeighborsClassifier\n",
    "from sklearn.model_selection import train_test_split\n",
    "from collections import Counter\n",
    "from sklearn.metrics import accuracy_score"
   ]
  },
  {
   "cell_type": "code",
   "execution_count": 6,
   "id": "cccab10e",
   "metadata": {},
   "outputs": [],
   "source": [
    "ds = datasets.load_breast_cancer()\n",
    "xtrain,xtest,ytrain,ytest = train_test_split(ds.data,ds.target,test_size=0.2)\n"
   ]
  },
  {
   "cell_type": "code",
   "execution_count": 18,
   "id": "01f36e83",
   "metadata": {},
   "outputs": [
    {
     "data": {
      "text/plain": [
       "KNeighborsClassifier(n_neighbors=7)"
      ]
     },
     "execution_count": 18,
     "metadata": {},
     "output_type": "execute_result"
    }
   ],
   "source": [
    "clf = KNeighborsClassifier(n_neighbors=7)\n",
    "clf.fit(xtrain,ytrain)"
   ]
  },
  {
   "cell_type": "code",
   "execution_count": 19,
   "id": "b7a937ec",
   "metadata": {},
   "outputs": [
    {
     "data": {
      "text/plain": [
       "0.9385964912280702"
      ]
     },
     "execution_count": 19,
     "metadata": {},
     "output_type": "execute_result"
    }
   ],
   "source": [
    "clf.score(xtest,ytest)"
   ]
  },
  {
   "cell_type": "markdown",
   "id": "30fc3220",
   "metadata": {},
   "source": [
    "# self implementation"
   ]
  },
  {
   "cell_type": "code",
   "execution_count": 24,
   "id": "2c5142e2",
   "metadata": {},
   "outputs": [],
   "source": [
    "def predict_1(xtrain,ytrain,xtest,k):\n",
    "    distances = []\n",
    "    for i in range(len(xtrain)):\n",
    "        distance = ((xtrain[i,:] - xtest)**2).sum()\n",
    "        distances.append([distance,i])\n",
    "    distances.sort()\n",
    "    targets = []\n",
    "    for i in range(k):\n",
    "        index_training_data = distances[i][1]\n",
    "        targets.append(ytrain[index_training_data])\n",
    "    return Counter(targets).most_common(1)[0][0]\n",
    "    \n",
    "def predict(xtrain,ytrain,xtest_list,k):\n",
    "    prediction = []\n",
    "    for xtest in xtest_list:\n",
    "        prediction.append(predict_1(xtrain,ytrain,xtest,k))\n",
    "    return prediction\n",
    "\n",
    "    "
   ]
  },
  {
   "cell_type": "code",
   "execution_count": 25,
   "id": "8b1b104b",
   "metadata": {},
   "outputs": [
    {
     "data": {
      "text/plain": [
       "0.9385964912280702"
      ]
     },
     "execution_count": 25,
     "metadata": {},
     "output_type": "execute_result"
    }
   ],
   "source": [
    "ypred = predict(xtrain , ytrain , xtest , 7)\n",
    "accuracy_score(ytest,ypred)\n"
   ]
  },
  {
   "cell_type": "code",
   "execution_count": null,
   "id": "ef6e37f8",
   "metadata": {},
   "outputs": [],
   "source": []
  }
 ],
 "metadata": {
  "kernelspec": {
   "display_name": "Python 3 (ipykernel)",
   "language": "python",
   "name": "python3"
  },
  "language_info": {
   "codemirror_mode": {
    "name": "ipython",
    "version": 3
   },
   "file_extension": ".py",
   "mimetype": "text/x-python",
   "name": "python",
   "nbconvert_exporter": "python",
   "pygments_lexer": "ipython3",
   "version": "3.9.12"
  }
 },
 "nbformat": 4,
 "nbformat_minor": 5
}
